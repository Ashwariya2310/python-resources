{
 "cells": [
  {
   "cell_type": "markdown",
   "metadata": {},
   "source": [
    "## Lambda functions"
   ]
  },
  {
   "cell_type": "markdown",
   "metadata": {},
   "source": [
    "- A lambda function is a small anonymous function in Python\n",
    "-  defined without a name\n",
    "- is not bound to a specific identifier like a regular function. Meaning: You can still assign a lambda function to a variable, but the function itself does not have a name. \n",
    "- Lambda functions can take **any number of arguments**, but can only have **one expression**. \n",
    "- typically used for short, simple operations that don't require a lot of code.\n",
    "\n",
    "\n",
    "\n",
    "**Syntax**:\n",
    "\n",
    "*lambda arguments: expression*\n",
    "- \"arguments\" are the input parameters for the function, and \"expression\" is the single statement that the function executes.\n",
    "\n",
    "\n",
    "EXTRA\n",
    "- Lambda functions are often used in combination with built-in Python functions like filter(), map(), and reduce()"
   ]
  },
  {
   "cell_type": "code",
   "execution_count": 1,
   "metadata": {},
   "outputs": [],
   "source": [
    "## example\n",
    "\n",
    "sum = lambda x, y: x+y"
   ]
  },
  {
   "cell_type": "markdown",
   "metadata": {},
   "source": []
  },
  {
   "cell_type": "code",
   "execution_count": 3,
   "metadata": {},
   "outputs": [
    {
     "name": "stdout",
     "output_type": "stream",
     "text": [
      "12\n"
     ]
    }
   ],
   "source": [
    "k= sum(6, 6)\n",
    "print(k)"
   ]
  },
  {
   "cell_type": "markdown",
   "metadata": {},
   "source": [
    "## List Comprehensions\n",
    "\n",
    "- List comprehensions are a concise way to create lists in Python. \n",
    "- They allow you to create a new list by applying an expression to each item in an existing list, or by applying a filter to an existing list.\n",
    "\n",
    "\n",
    "**SYNTAX**\n",
    "\n",
    "*new_list = [expression for item in iterable if condition]*\n",
    "\n",
    "- Here, \"new_list\" is the new list you want to create, \"expression\" is the expression you want to apply to each item in the iterable, \"item\" is the current item in the iterable, and \"iterable\" is the original list or sequence. \"if condition\" is an optional filter that allows you to include only items that meet a certain condition."
   ]
  },
  {
   "cell_type": "code",
   "execution_count": 4,
   "metadata": {},
   "outputs": [
    {
     "name": "stdout",
     "output_type": "stream",
     "text": [
      "[4, 16]\n"
     ]
    }
   ],
   "source": [
    "## Example\n",
    "\n",
    "no= [1, 2, 3, 4]\n",
    "sq= [x**2 for x in no if x%2==0]\n",
    "print(sq)"
   ]
  },
  {
   "cell_type": "code",
   "execution_count": 6,
   "metadata": {},
   "outputs": [
    {
     "name": "stdout",
     "output_type": "stream",
     "text": [
      "[1, 2, 3, 4, 5, 6, 7, 8, 9]\n"
     ]
    }
   ],
   "source": [
    "## They can also be nested\n",
    "\n",
    "matrix = [[1,2,3], [4,5,6], [7, 8, 9]]\n",
    "\n",
    "flat= [x for row in matrix for x in row]\n",
    "print(flat)"
   ]
  },
  {
   "cell_type": "markdown",
   "metadata": {},
   "source": [
    "## Filter() method\n",
    "\n",
    "- filter() is a built-in function in Python that allows you to filter an iterable (such as a list) based on a specified function.\n",
    "- It returns an iterator that contains the elements from the iterable that meet the criteria specified in the function.\n",
    "\n",
    "**SYNTAX**\n",
    "\n",
    "*filter(function, iterable)*\n",
    "\n",
    "\n",
    "- The function parameter is the function that determines whether or not an element should be included in the output\n",
    "- It should take a single argument and return a Boolean value indicating whether the argument meets the filtering criteria. \n",
    "- The iterable parameter is the sequence that you want to filter.\n",
    "\n"
   ]
  },
  {
   "cell_type": "markdown",
   "metadata": {},
   "source": []
  },
  {
   "cell_type": "code",
   "execution_count": 11,
   "metadata": {},
   "outputs": [
    {
     "name": "stdout",
     "output_type": "stream",
     "text": [
      "List of evens [2, 4, 6, 8, 10]\n",
      "[2, 4, 6, 8, 10]\n",
      "[2, 4, 6, 8, 10]\n"
     ]
    }
   ],
   "source": [
    "## EX:\n",
    "# let's say you have a list\n",
    "no= [1, 2, 3, 4, 5, 6, 7, 8, 9, 10]\n",
    "\n",
    "# How will you get a list of only even no.s ?\n",
    "\n",
    "## 1 method is:\n",
    "n=[]\n",
    "for i in no:\n",
    "    if i % 2 ==0:\n",
    "        n.append(i)\n",
    "\n",
    "print('List of evens', n)\n",
    "\n",
    "#but this can happen in one line\n",
    "\n",
    "\n",
    "n2= list(filter(lambda x: x%2 == 0, no))\n",
    "\n",
    "print(n2)\n",
    "\n",
    "## approach 3\n",
    "\n",
    "n3 = [x for x in n if x%2 ==0]\n",
    "\n",
    "print(n3)\n"
   ]
  },
  {
   "cell_type": "code",
   "execution_count": 25,
   "metadata": {},
   "outputs": [
    {
     "name": "stdout",
     "output_type": "stream",
     "text": [
      "[67, 55, 80]\n",
      "[67, 55, 80]\n"
     ]
    }
   ],
   "source": [
    "# EX2:\n",
    "# filter no greater than 50\n",
    "\n",
    "n = [10, 23,5 ,67, 40, 55, 80, 12, 34, 45]\n",
    "\n",
    "#approach 1\n",
    "\n",
    "def greaterthan5(x):\n",
    "    return x>50\n",
    "\n",
    "n0= list(filter(greaterthan5, n))\n",
    "print(n0)\n",
    "\n",
    "# 2\n",
    "\n",
    "n1= list(filter(lambda x: x>50, n))\n",
    "print(n1)"
   ]
  },
  {
   "cell_type": "markdown",
   "metadata": {},
   "source": [
    "- The filter() function applies the greater_than_5() function to each element in the list, and returns an iterator that contains only the elements that meet the filtering criteria."
   ]
  },
  {
   "cell_type": "markdown",
   "metadata": {},
   "source": [
    "## Map() method\n",
    "\n",
    "- map() is a built-in function in Python that allows you to apply a function to every element in an iterable (such as a list) and returns an iterator that contains the results.\n",
    "\n",
    "**SYNTAX**\n",
    "\n",
    "*map(function, iterable)*\n",
    "\n",
    "- The function parameter is the function that you want to apply to each element in the iterable\n",
    "- It should take a single argument and return the result of applying the function to that argument. \n",
    "- The iterable parameter is the sequence that you want to apply the function to.\n",
    "\n"
   ]
  },
  {
   "cell_type": "code",
   "execution_count": 21,
   "metadata": {},
   "outputs": [
    {
     "name": "stdout",
     "output_type": "stream",
     "text": [
      "[100, 529, 25, 4489, 1600, 3025, 6400, 144, 1156, 2025]\n",
      "[2, 4, 6, 8, 10]\n",
      "[100, 529, 25, 4489, 1600, 3025, 6400, 144, 1156, 2025]\n"
     ]
    }
   ],
   "source": [
    "# Ex\n",
    "\n",
    "n = [10, 23,5 ,67, 40, 55, 80, 12, 34, 45]\n",
    "\n",
    "#lets say you want to find sq of each element\n",
    "#A1\n",
    "\n",
    "n0= [x**2 for x in n]\n",
    "\n",
    "print(n0)\n",
    "\n",
    "# A2\n",
    "\n",
    "n1 = list(map(lambda x: x**2, n))\n",
    "\n",
    "print(n2)\n",
    "\n",
    "# A3\n",
    "\n",
    "def squares(x):\n",
    "    return x**2\n",
    "\n",
    "n3= list(map(squares, n))\n",
    "\n",
    "print(n3)\n"
   ]
  },
  {
   "cell_type": "markdown",
   "metadata": {},
   "source": [
    "- The map() function applies the lambda function to each element in the list, and returns an iterator that contains the squared numbers. We then convert the iterator to a list using the list() function."
   ]
  },
  {
   "cell_type": "code",
   "execution_count": 22,
   "metadata": {},
   "outputs": [
    {
     "name": "stdout",
     "output_type": "stream",
     "text": [
      "<map object at 0x108f86f20>\n"
     ]
    }
   ],
   "source": [
    "# without list() what will happen\n",
    "\n",
    "n = [10, 23,5 ,67, 40, 55, 80, 12, 34, 45]\n",
    "\n",
    "\n",
    "# A2\n",
    "\n",
    "n1 = map(lambda x: x**2, n)\n",
    "\n",
    "print(n1)\n"
   ]
  },
  {
   "cell_type": "markdown",
   "metadata": {},
   "source": [
    "Thus list() converts iterator to a list"
   ]
  },
  {
   "cell_type": "markdown",
   "metadata": {},
   "source": [
    "## Reduce method()\n",
    "\n",
    "\n",
    "- reduce() is a built-in Python function that allows you to apply a function to a sequence and iteratively reduce it to a single value.\n",
    "\n",
    "-  we're using the reduce() function to add up all the numbers in the numbers list. The lambda function takes two arguments, x and y, and it returns their sum.\n",
    "- \n"
   ]
  },
  {
   "cell_type": "code",
   "execution_count": 28,
   "metadata": {},
   "outputs": [
    {
     "name": "stdout",
     "output_type": "stream",
     "text": [
      "120\n"
     ]
    }
   ],
   "source": [
    "from functools import reduce\n",
    "numbers = [1, 2, 3, 4, 5]\n",
    "result = reduce(lambda x, y: x * y, numbers)\n",
    "print(result) # Output: 15"
   ]
  },
  {
   "cell_type": "markdown",
   "metadata": {},
   "source": [
    "- "
   ]
  }
 ],
 "metadata": {
  "kernelspec": {
   "display_name": "Python 3.11.3 64-bit",
   "language": "python",
   "name": "python3"
  },
  "language_info": {
   "codemirror_mode": {
    "name": "ipython",
    "version": 3
   },
   "file_extension": ".py",
   "mimetype": "text/x-python",
   "name": "python",
   "nbconvert_exporter": "python",
   "pygments_lexer": "ipython3",
   "version": "3.11.3"
  },
  "orig_nbformat": 4,
  "vscode": {
   "interpreter": {
    "hash": "b0fa6594d8f4cbf19f97940f81e996739fb7646882a419484c72d19e05852a7e"
   }
  }
 },
 "nbformat": 4,
 "nbformat_minor": 2
}
